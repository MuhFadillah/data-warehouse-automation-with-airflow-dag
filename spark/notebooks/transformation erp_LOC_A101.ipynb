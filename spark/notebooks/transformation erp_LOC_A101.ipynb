{
 "cells": [
  {
   "cell_type": "code",
   "execution_count": 1,
   "id": "54405266-2a73-45d6-bb11-a8fb48b3f888",
   "metadata": {
    "scrolled": true
   },
   "outputs": [
    {
     "name": "stderr",
     "output_type": "stream",
     "text": [
      "25/05/26 13:10:46 WARN Utils: Your hostname, lenovo-PC resolves to a loopback address: 127.0.1.1; using 172.31.112.46 instead (on interface eth0)\n",
      "25/05/26 13:10:46 WARN Utils: Set SPARK_LOCAL_IP if you need to bind to another address\n"
     ]
    },
    {
     "name": "stdout",
     "output_type": "stream",
     "text": [
      ":: loading settings :: url = jar:file:/home/ubuntucoy/spark/jars/ivy-2.5.1.jar!/org/apache/ivy/core/settings/ivysettings.xml\n"
     ]
    },
    {
     "name": "stderr",
     "output_type": "stream",
     "text": [
      "Ivy Default Cache set to: /home/ubuntucoy/.ivy2/cache\n",
      "The jars for the packages stored in: /home/ubuntucoy/.ivy2/jars\n",
      "org.apache.hadoop#hadoop-aws added as a dependency\n",
      "com.amazonaws#aws-java-sdk-bundle added as a dependency\n",
      ":: resolving dependencies :: org.apache.spark#spark-submit-parent-da181f05-115c-4481-a617-5f730e43ebde;1.0\n",
      "\tconfs: [default]\n",
      "\tfound org.apache.hadoop#hadoop-aws;3.3.2 in central\n",
      "\tfound com.amazonaws#aws-java-sdk-bundle;1.11.1026 in central\n",
      "\tfound org.wildfly.openssl#wildfly-openssl;1.0.7.Final in central\n",
      ":: resolution report :: resolve 1499ms :: artifacts dl 44ms\n",
      "\t:: modules in use:\n",
      "\tcom.amazonaws#aws-java-sdk-bundle;1.11.1026 from central in [default]\n",
      "\torg.apache.hadoop#hadoop-aws;3.3.2 from central in [default]\n",
      "\torg.wildfly.openssl#wildfly-openssl;1.0.7.Final from central in [default]\n",
      "\t:: evicted modules:\n",
      "\tcom.amazonaws#aws-java-sdk-bundle;1.11.901 by [com.amazonaws#aws-java-sdk-bundle;1.11.1026] in [default]\n",
      "\t---------------------------------------------------------------------\n",
      "\t|                  |            modules            ||   artifacts   |\n",
      "\t|       conf       | number| search|dwnlded|evicted|| number|dwnlded|\n",
      "\t---------------------------------------------------------------------\n",
      "\t|      default     |   4   |   0   |   0   |   1   ||   3   |   0   |\n",
      "\t---------------------------------------------------------------------\n",
      ":: retrieving :: org.apache.spark#spark-submit-parent-da181f05-115c-4481-a617-5f730e43ebde\n",
      "\tconfs: [default]\n",
      "\t0 artifacts copied, 3 already retrieved (0kB/36ms)\n",
      "25/05/26 13:11:00 WARN NativeCodeLoader: Unable to load native-hadoop library for your platform... using builtin-java classes where applicable\n",
      "Setting default log level to \"WARN\".\n",
      "To adjust logging level use sc.setLogLevel(newLevel). For SparkR, use setLogLevel(newLevel).\n",
      "25/05/26 13:11:04 WARN Utils: Service 'SparkUI' could not bind on port 4040. Attempting port 4041.\n",
      "25/05/26 13:11:04 WARN Utils: Service 'SparkUI' could not bind on port 4041. Attempting port 4042.\n"
     ]
    }
   ],
   "source": [
    "from pyspark.sql import SparkSession\n",
    "\n",
    "spark = SparkSession.builder \\\n",
    "    .appName(\"ELT_PySpark\") \\\n",
    "    .config(\"spark.jars.packages\", \"org.apache.hadoop:hadoop-aws:3.3.2,com.amazonaws:aws-java-sdk-bundle:1.11.901\") \\\n",
    "    .config(\"spark.hadoop.fs.s3a.endpoint\", \"http://localhost:9000\") \\\n",
    "    .config(\"spark.hadoop.fs.s3a.access.key\", \"your username\") \\\n",
    "    .config(\"spark.hadoop.fs.s3a.secret.key\", \"your password\") \\\n",
    "    .config(\"spark.hadoop.fs.s3a.path.style.access\", \"true\") \\\n",
    "    .config(\"spark.hadoop.fs.s3a.impl\", \"org.apache.hadoop.fs.s3a.S3AFileSystem\") \\\n",
    "    .getOrCreate()"
   ]
  },
  {
   "cell_type": "code",
   "execution_count": 2,
   "id": "ddf558ce-3b19-4a88-a50e-ae18a078bfc4",
   "metadata": {},
   "outputs": [
    {
     "name": "stderr",
     "output_type": "stream",
     "text": [
      "25/05/26 13:11:22 WARN MetricsConfig: Cannot locate configuration: tried hadoop-metrics2-s3a-file-system.properties,hadoop-metrics2.properties\n",
      "                                                                                "
     ]
    },
    {
     "name": "stdout",
     "output_type": "stream",
     "text": [
      "+-----------+---------+\n",
      "|        CID|    CNTRY|\n",
      "+-----------+---------+\n",
      "|AW-00011000|Australia|\n",
      "|AW-00011001|Australia|\n",
      "|AW-00011002|Australia|\n",
      "|AW-00011003|Australia|\n",
      "|AW-00011004|Australia|\n",
      "|AW-00011005|Australia|\n",
      "|AW-00011006|Australia|\n",
      "|AW-00011007|Australia|\n",
      "|AW-00011008|Australia|\n",
      "|AW-00011009|Australia|\n",
      "|AW-00011010|Australia|\n",
      "|AW-00011011|Australia|\n",
      "|AW-00011012|       US|\n",
      "|AW-00011013|       US|\n",
      "|AW-00011014|       US|\n",
      "|AW-00011015|       US|\n",
      "|AW-00011016|       US|\n",
      "|AW-00011017|Australia|\n",
      "|AW-00011018|Australia|\n",
      "|AW-00011019|   Canada|\n",
      "+-----------+---------+\n",
      "only showing top 20 rows\n",
      "\n"
     ]
    }
   ],
   "source": [
    "df = spark.read.csv(\"s3a://raw/erp/LOC_A101.csv\", header=True, inferSchema=True)\n",
    "df.show()"
   ]
  },
  {
   "cell_type": "code",
   "execution_count": 3,
   "id": "67d8fb90-8ecf-45c4-84da-63ae9b2ecf94",
   "metadata": {},
   "outputs": [
    {
     "name": "stdout",
     "output_type": "stream",
     "text": [
      "+----------+-------------+\n",
      "|       cid|        cntry|\n",
      "+----------+-------------+\n",
      "|AW00011000|    Australia|\n",
      "|AW00011001|    Australia|\n",
      "|AW00011002|    Australia|\n",
      "|AW00011003|    Australia|\n",
      "|AW00011004|    Australia|\n",
      "|AW00011005|    Australia|\n",
      "|AW00011006|    Australia|\n",
      "|AW00011007|    Australia|\n",
      "|AW00011008|    Australia|\n",
      "|AW00011009|    Australia|\n",
      "|AW00011010|    Australia|\n",
      "|AW00011011|    Australia|\n",
      "|AW00011012|United States|\n",
      "|AW00011013|United States|\n",
      "|AW00011014|United States|\n",
      "|AW00011015|United States|\n",
      "|AW00011016|United States|\n",
      "|AW00011017|    Australia|\n",
      "|AW00011018|    Australia|\n",
      "|AW00011019|       Canada|\n",
      "+----------+-------------+\n",
      "only showing top 20 rows\n",
      "\n"
     ]
    }
   ],
   "source": [
    "from pyspark.sql.functions import col, trim, when, expr\n",
    "\n",
    "# Transformation\n",
    "df_transformed = df.select(\n",
    "    expr(\"REPLACE(cid, '-', '')\").alias(\"cid\"),\n",
    "    when(trim(col(\"cntry\")) == \"DE\", \"Germany\")\n",
    "    .when(trim(col(\"cntry\")).isin(\"US\", \"USA\"), \"United States\")\n",
    "    .when((trim(col(\"cntry\")) == \"\") | col(\"cntry\").isNull(), \"n/a\")\n",
    "    .otherwise(trim(col(\"cntry\"))).alias(\"cntry\")\n",
    ")\n",
    "\n",
    "df_transformed.show()"
   ]
  },
  {
   "cell_type": "code",
   "execution_count": 4,
   "id": "5f12d049-4051-4931-b0e5-fe20ad663301",
   "metadata": {},
   "outputs": [
    {
     "name": "stderr",
     "output_type": "stream",
     "text": [
      "25/05/26 13:11:51 WARN AbstractS3ACommitterFactory: Using standard FileOutputCommitter to commit work. This is slow and potentially unsafe.\n",
      "25/05/26 13:11:53 WARN AbstractS3ACommitterFactory: Using standard FileOutputCommitter to commit work. This is slow and potentially unsafe.\n",
      "                                                                                "
     ]
    }
   ],
   "source": [
    "df_transformed.write \\\n",
    "    .mode(\"overwrite\") \\\n",
    "    .option(\"header\", True) \\\n",
    "    .csv(\"s3a://clean/erp/LOC_A101_clean.csv\")"
   ]
  },
  {
   "cell_type": "code",
   "execution_count": 5,
   "id": "2307ecac-7f3e-4e05-8c9c-21561787032c",
   "metadata": {},
   "outputs": [
    {
     "name": "stdout",
     "output_type": "stream",
     "text": [
      "+----------+-------------+\n",
      "|       cid|        cntry|\n",
      "+----------+-------------+\n",
      "|AW00011000|    Australia|\n",
      "|AW00011001|    Australia|\n",
      "|AW00011002|    Australia|\n",
      "|AW00011003|    Australia|\n",
      "|AW00011004|    Australia|\n",
      "|AW00011005|    Australia|\n",
      "|AW00011006|    Australia|\n",
      "|AW00011007|    Australia|\n",
      "|AW00011008|    Australia|\n",
      "|AW00011009|    Australia|\n",
      "|AW00011010|    Australia|\n",
      "|AW00011011|    Australia|\n",
      "|AW00011012|United States|\n",
      "|AW00011013|United States|\n",
      "|AW00011014|United States|\n",
      "|AW00011015|United States|\n",
      "|AW00011016|United States|\n",
      "|AW00011017|    Australia|\n",
      "|AW00011018|    Australia|\n",
      "|AW00011019|       Canada|\n",
      "+----------+-------------+\n",
      "only showing top 20 rows\n",
      "\n"
     ]
    }
   ],
   "source": [
    "df_cleaned = spark.read.option(\"header\", True).csv(\"s3a://clean/erp/LOC_A101_clean.csv\")\n",
    "df_cleaned.show()"
   ]
  },
  {
   "cell_type": "code",
   "execution_count": 6,
   "id": "1ff6eef3-18f3-4e24-a8b2-35a1af0faf70",
   "metadata": {},
   "outputs": [
    {
     "name": "stderr",
     "output_type": "stream",
     "text": [
      "                                                                                "
     ]
    },
    {
     "data": {
      "text/plain": [
       "<duckdb.duckdb.DuckDBPyConnection at 0x7f41007157b0>"
      ]
     },
     "execution_count": 6,
     "metadata": {},
     "output_type": "execute_result"
    }
   ],
   "source": [
    "import duckdb\n",
    "\n",
    "# Convert from Spark to Pandas\n",
    "df_cleaned_LOC_A101 = df_cleaned.toPandas()\n",
    "\n",
    "# Connect to DuckDB\n",
    "con = duckdb.connect(\"/mnt/d/data_engineering/duckdb/db/dev.duckdb\")\n",
    "\n",
    "# Save as DuckDB table (view)\n",
    "con.register(\"erp_LOC_A101_clean_view\", df_cleaned_LOC_A101)\n",
    "\n",
    "# Save as DuckDB table (not view)\n",
    "con.execute(\"CREATE OR REPLACE TABLE erp_LOC_A101_clean AS SELECT * FROM erp_LOC_A101_clean_view\")"
   ]
  },
  {
   "cell_type": "code",
   "execution_count": 7,
   "id": "eadd408c-2d60-4864-bd02-9438b8989497",
   "metadata": {},
   "outputs": [
    {
     "data": {
      "text/html": [
       "<style type=\"text/css\">\n",
       "</style>\n",
       "<table id=\"T_e67df\">\n",
       "  <thead>\n",
       "    <tr>\n",
       "      <th id=\"T_e67df_level0_col0\" class=\"col_heading level0 col0\" >cid</th>\n",
       "      <th id=\"T_e67df_level0_col1\" class=\"col_heading level0 col1\" >cntry</th>\n",
       "    </tr>\n",
       "  </thead>\n",
       "  <tbody>\n",
       "    <tr>\n",
       "      <td id=\"T_e67df_row0_col0\" class=\"data row0 col0\" >AW00011000</td>\n",
       "      <td id=\"T_e67df_row0_col1\" class=\"data row0 col1\" >Australia</td>\n",
       "    </tr>\n",
       "    <tr>\n",
       "      <td id=\"T_e67df_row1_col0\" class=\"data row1 col0\" >AW00011001</td>\n",
       "      <td id=\"T_e67df_row1_col1\" class=\"data row1 col1\" >Australia</td>\n",
       "    </tr>\n",
       "    <tr>\n",
       "      <td id=\"T_e67df_row2_col0\" class=\"data row2 col0\" >AW00011002</td>\n",
       "      <td id=\"T_e67df_row2_col1\" class=\"data row2 col1\" >Australia</td>\n",
       "    </tr>\n",
       "    <tr>\n",
       "      <td id=\"T_e67df_row3_col0\" class=\"data row3 col0\" >AW00011003</td>\n",
       "      <td id=\"T_e67df_row3_col1\" class=\"data row3 col1\" >Australia</td>\n",
       "    </tr>\n",
       "    <tr>\n",
       "      <td id=\"T_e67df_row4_col0\" class=\"data row4 col0\" >AW00011004</td>\n",
       "      <td id=\"T_e67df_row4_col1\" class=\"data row4 col1\" >Australia</td>\n",
       "    </tr>\n",
       "    <tr>\n",
       "      <td id=\"T_e67df_row5_col0\" class=\"data row5 col0\" >AW00011005</td>\n",
       "      <td id=\"T_e67df_row5_col1\" class=\"data row5 col1\" >Australia</td>\n",
       "    </tr>\n",
       "    <tr>\n",
       "      <td id=\"T_e67df_row6_col0\" class=\"data row6 col0\" >AW00011006</td>\n",
       "      <td id=\"T_e67df_row6_col1\" class=\"data row6 col1\" >Australia</td>\n",
       "    </tr>\n",
       "    <tr>\n",
       "      <td id=\"T_e67df_row7_col0\" class=\"data row7 col0\" >AW00011007</td>\n",
       "      <td id=\"T_e67df_row7_col1\" class=\"data row7 col1\" >Australia</td>\n",
       "    </tr>\n",
       "    <tr>\n",
       "      <td id=\"T_e67df_row8_col0\" class=\"data row8 col0\" >AW00011008</td>\n",
       "      <td id=\"T_e67df_row8_col1\" class=\"data row8 col1\" >Australia</td>\n",
       "    </tr>\n",
       "    <tr>\n",
       "      <td id=\"T_e67df_row9_col0\" class=\"data row9 col0\" >AW00011009</td>\n",
       "      <td id=\"T_e67df_row9_col1\" class=\"data row9 col1\" >Australia</td>\n",
       "    </tr>\n",
       "  </tbody>\n",
       "</table>\n"
      ],
      "text/plain": [
       "<pandas.io.formats.style.Styler at 0x7f4103c46610>"
      ]
     },
     "execution_count": 7,
     "metadata": {},
     "output_type": "execute_result"
    }
   ],
   "source": [
    "con.execute(\"SELECT * FROM erp_LOC_A101_clean LIMIT 10\").df().style.hide(axis=\"index\")"
   ]
  },
  {
   "cell_type": "code",
   "execution_count": 8,
   "id": "d07149b9-9351-454a-9b98-a3de20720b41",
   "metadata": {},
   "outputs": [],
   "source": [
    "con.close()"
   ]
  },
  {
   "cell_type": "code",
   "execution_count": null,
   "id": "503985bd-13f1-47c5-925b-14da25f841d1",
   "metadata": {},
   "outputs": [],
   "source": []
  }
 ],
 "metadata": {
  "kernelspec": {
   "display_name": "PySpark (spark_venv)",
   "language": "python",
   "name": "spark_venv"
  },
  "language_info": {
   "codemirror_mode": {
    "name": "ipython",
    "version": 3
   },
   "file_extension": ".py",
   "mimetype": "text/x-python",
   "name": "python",
   "nbconvert_exporter": "python",
   "pygments_lexer": "ipython3",
   "version": "3.8.10"
  }
 },
 "nbformat": 4,
 "nbformat_minor": 5
}
