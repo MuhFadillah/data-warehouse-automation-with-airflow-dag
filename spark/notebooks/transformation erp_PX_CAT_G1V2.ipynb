{
 "cells": [
  {
   "cell_type": "code",
   "execution_count": 1,
   "id": "e5b9564e-ae23-49e0-830f-d0aae8031765",
   "metadata": {
    "scrolled": true
   },
   "outputs": [
    {
     "name": "stderr",
     "output_type": "stream",
     "text": [
      "25/05/26 13:16:13 WARN Utils: Your hostname, lenovo-PC resolves to a loopback address: 127.0.1.1; using 172.31.112.46 instead (on interface eth0)\n",
      "25/05/26 13:16:13 WARN Utils: Set SPARK_LOCAL_IP if you need to bind to another address\n"
     ]
    },
    {
     "name": "stdout",
     "output_type": "stream",
     "text": [
      ":: loading settings :: url = jar:file:/home/ubuntucoy/spark/jars/ivy-2.5.1.jar!/org/apache/ivy/core/settings/ivysettings.xml\n"
     ]
    },
    {
     "name": "stderr",
     "output_type": "stream",
     "text": [
      "Ivy Default Cache set to: /home/ubuntucoy/.ivy2/cache\n",
      "The jars for the packages stored in: /home/ubuntucoy/.ivy2/jars\n",
      "org.apache.hadoop#hadoop-aws added as a dependency\n",
      "com.amazonaws#aws-java-sdk-bundle added as a dependency\n",
      ":: resolving dependencies :: org.apache.spark#spark-submit-parent-e2b603d6-7de8-4594-bb2e-dcbbc9e058ab;1.0\n",
      "\tconfs: [default]\n",
      "\tfound org.apache.hadoop#hadoop-aws;3.3.2 in central\n",
      "\tfound com.amazonaws#aws-java-sdk-bundle;1.11.1026 in central\n",
      "\tfound org.wildfly.openssl#wildfly-openssl;1.0.7.Final in central\n",
      ":: resolution report :: resolve 1339ms :: artifacts dl 48ms\n",
      "\t:: modules in use:\n",
      "\tcom.amazonaws#aws-java-sdk-bundle;1.11.1026 from central in [default]\n",
      "\torg.apache.hadoop#hadoop-aws;3.3.2 from central in [default]\n",
      "\torg.wildfly.openssl#wildfly-openssl;1.0.7.Final from central in [default]\n",
      "\t:: evicted modules:\n",
      "\tcom.amazonaws#aws-java-sdk-bundle;1.11.901 by [com.amazonaws#aws-java-sdk-bundle;1.11.1026] in [default]\n",
      "\t---------------------------------------------------------------------\n",
      "\t|                  |            modules            ||   artifacts   |\n",
      "\t|       conf       | number| search|dwnlded|evicted|| number|dwnlded|\n",
      "\t---------------------------------------------------------------------\n",
      "\t|      default     |   4   |   0   |   0   |   1   ||   3   |   0   |\n",
      "\t---------------------------------------------------------------------\n",
      ":: retrieving :: org.apache.spark#spark-submit-parent-e2b603d6-7de8-4594-bb2e-dcbbc9e058ab\n",
      "\tconfs: [default]\n",
      "\t0 artifacts copied, 3 already retrieved (0kB/55ms)\n",
      "25/05/26 13:16:27 WARN NativeCodeLoader: Unable to load native-hadoop library for your platform... using builtin-java classes where applicable\n",
      "Setting default log level to \"WARN\".\n",
      "To adjust logging level use sc.setLogLevel(newLevel). For SparkR, use setLogLevel(newLevel).\n"
     ]
    }
   ],
   "source": [
    "from pyspark.sql import SparkSession\n",
    "\n",
    "spark = SparkSession.builder \\\n",
    "    .appName(\"ELT_PySpark\") \\\n",
    "    .config(\"spark.jars.packages\", \"org.apache.hadoop:hadoop-aws:3.3.2,com.amazonaws:aws-java-sdk-bundle:1.11.901\") \\\n",
    "    .config(\"spark.hadoop.fs.s3a.endpoint\", \"http://localhost:9000\") \\\n",
    "    .config(\"spark.hadoop.fs.s3a.access.key\", \"minioadmin\") \\\n",
    "    .config(\"spark.hadoop.fs.s3a.secret.key\", \"minioadmin123\") \\\n",
    "    .config(\"spark.hadoop.fs.s3a.path.style.access\", \"true\") \\\n",
    "    .config(\"spark.hadoop.fs.s3a.impl\", \"org.apache.hadoop.fs.s3a.S3AFileSystem\") \\\n",
    "    .getOrCreate()"
   ]
  },
  {
   "cell_type": "code",
   "execution_count": 2,
   "id": "554980d6-d687-4aea-8a61-176fdece55a7",
   "metadata": {},
   "outputs": [
    {
     "name": "stderr",
     "output_type": "stream",
     "text": [
      "25/05/26 13:16:56 WARN MetricsConfig: Cannot locate configuration: tried hadoop-metrics2-s3a-file-system.properties,hadoop-metrics2.properties\n",
      "                                                                                "
     ]
    },
    {
     "name": "stdout",
     "output_type": "stream",
     "text": [
      "+-----+-----------+-----------------+-----------+\n",
      "|   ID|        CAT|           SUBCAT|MAINTENANCE|\n",
      "+-----+-----------+-----------------+-----------+\n",
      "|AC_BR|Accessories|       Bike Racks|        Yes|\n",
      "|AC_BS|Accessories|      Bike Stands|         No|\n",
      "|AC_BC|Accessories|Bottles and Cages|         No|\n",
      "|AC_CL|Accessories|         Cleaners|        Yes|\n",
      "|AC_FE|Accessories|          Fenders|         No|\n",
      "|AC_HE|Accessories|          Helmets|        Yes|\n",
      "|AC_HP|Accessories|  Hydration Packs|         No|\n",
      "|AC_LI|Accessories|           Lights|        Yes|\n",
      "|AC_LO|Accessories|            Locks|        Yes|\n",
      "|AC_PA|Accessories|         Panniers|         No|\n",
      "|AC_PU|Accessories|            Pumps|        Yes|\n",
      "|AC_TT|Accessories|  Tires and Tubes|        Yes|\n",
      "|BI_MB|      Bikes|   Mountain Bikes|        Yes|\n",
      "|BI_RB|      Bikes|       Road Bikes|        Yes|\n",
      "|BI_TB|      Bikes|    Touring Bikes|        Yes|\n",
      "|CL_BS|   Clothing|       Bib-Shorts|         No|\n",
      "|CL_CA|   Clothing|             Caps|         No|\n",
      "|CL_GL|   Clothing|           Gloves|         No|\n",
      "|CL_JE|   Clothing|          Jerseys|         No|\n",
      "|CL_SH|   Clothing|           Shorts|         No|\n",
      "+-----+-----------+-----------------+-----------+\n",
      "only showing top 20 rows\n",
      "\n"
     ]
    }
   ],
   "source": [
    "df = spark.read.csv(\"s3a://raw/erp/PX_CAT_G1V2.csv\", header=True, inferSchema=True)\n",
    "df.show()"
   ]
  },
  {
   "cell_type": "code",
   "execution_count": 3,
   "id": "bd0ceaa5-47a6-41ae-834b-60586c598ab1",
   "metadata": {},
   "outputs": [
    {
     "name": "stdout",
     "output_type": "stream",
     "text": [
      "+-----+-----------+-----------------+-----------+\n",
      "|   id|        cat|           subcat|maintenance|\n",
      "+-----+-----------+-----------------+-----------+\n",
      "|AC_BR|Accessories|       Bike Racks|        Yes|\n",
      "|AC_BS|Accessories|      Bike Stands|         No|\n",
      "|AC_BC|Accessories|Bottles and Cages|         No|\n",
      "|AC_CL|Accessories|         Cleaners|        Yes|\n",
      "|AC_FE|Accessories|          Fenders|         No|\n",
      "|AC_HE|Accessories|          Helmets|        Yes|\n",
      "|AC_HP|Accessories|  Hydration Packs|         No|\n",
      "|AC_LI|Accessories|           Lights|        Yes|\n",
      "|AC_LO|Accessories|            Locks|        Yes|\n",
      "|AC_PA|Accessories|         Panniers|         No|\n",
      "|AC_PU|Accessories|            Pumps|        Yes|\n",
      "|AC_TT|Accessories|  Tires and Tubes|        Yes|\n",
      "|BI_MB|      Bikes|   Mountain Bikes|        Yes|\n",
      "|BI_RB|      Bikes|       Road Bikes|        Yes|\n",
      "|BI_TB|      Bikes|    Touring Bikes|        Yes|\n",
      "|CL_BS|   Clothing|       Bib-Shorts|         No|\n",
      "|CL_CA|   Clothing|             Caps|         No|\n",
      "|CL_GL|   Clothing|           Gloves|         No|\n",
      "|CL_JE|   Clothing|          Jerseys|         No|\n",
      "|CL_SH|   Clothing|           Shorts|         No|\n",
      "+-----+-----------+-----------------+-----------+\n",
      "only showing top 20 rows\n",
      "\n"
     ]
    }
   ],
   "source": [
    "from pyspark.sql.functions import expr\n",
    "\n",
    "#transformasi\n",
    "df_transformed = df.select (\n",
    "    expr(\"id\"),\n",
    "    expr(\"cat\"),\n",
    "    expr(\"subcat\"),\n",
    "    expr(\"maintenance\")\n",
    ")\n",
    "\n",
    "df_transformed.show()"
   ]
  },
  {
   "cell_type": "code",
   "execution_count": 4,
   "id": "40b60b66-151d-41fa-a47b-0a9ff7466be9",
   "metadata": {},
   "outputs": [
    {
     "name": "stderr",
     "output_type": "stream",
     "text": [
      "25/05/26 13:17:20 WARN AbstractS3ACommitterFactory: Using standard FileOutputCommitter to commit work. This is slow and potentially unsafe.\n",
      "25/05/26 13:17:21 WARN AbstractS3ACommitterFactory: Using standard FileOutputCommitter to commit work. This is slow and potentially unsafe.\n",
      "                                                                                "
     ]
    }
   ],
   "source": [
    "df_transformed.write \\\n",
    "    .mode(\"overwrite\") \\\n",
    "    .option(\"header\", True) \\\n",
    "    .csv(\"s3a://clean/erp/PX_CAT_G1V2_clean.csv\")"
   ]
  },
  {
   "cell_type": "code",
   "execution_count": 5,
   "id": "3e2fd22e-15f5-4524-a692-376b98f56a1f",
   "metadata": {},
   "outputs": [
    {
     "name": "stdout",
     "output_type": "stream",
     "text": [
      "+-----+-----------+-----------------+-----------+\n",
      "|   id|        cat|           subcat|maintenance|\n",
      "+-----+-----------+-----------------+-----------+\n",
      "|AC_BR|Accessories|       Bike Racks|        Yes|\n",
      "|AC_BS|Accessories|      Bike Stands|         No|\n",
      "|AC_BC|Accessories|Bottles and Cages|         No|\n",
      "|AC_CL|Accessories|         Cleaners|        Yes|\n",
      "|AC_FE|Accessories|          Fenders|         No|\n",
      "|AC_HE|Accessories|          Helmets|        Yes|\n",
      "|AC_HP|Accessories|  Hydration Packs|         No|\n",
      "|AC_LI|Accessories|           Lights|        Yes|\n",
      "|AC_LO|Accessories|            Locks|        Yes|\n",
      "|AC_PA|Accessories|         Panniers|         No|\n",
      "|AC_PU|Accessories|            Pumps|        Yes|\n",
      "|AC_TT|Accessories|  Tires and Tubes|        Yes|\n",
      "|BI_MB|      Bikes|   Mountain Bikes|        Yes|\n",
      "|BI_RB|      Bikes|       Road Bikes|        Yes|\n",
      "|BI_TB|      Bikes|    Touring Bikes|        Yes|\n",
      "|CL_BS|   Clothing|       Bib-Shorts|         No|\n",
      "|CL_CA|   Clothing|             Caps|         No|\n",
      "|CL_GL|   Clothing|           Gloves|         No|\n",
      "|CL_JE|   Clothing|          Jerseys|         No|\n",
      "|CL_SH|   Clothing|           Shorts|         No|\n",
      "+-----+-----------+-----------------+-----------+\n",
      "only showing top 20 rows\n",
      "\n"
     ]
    }
   ],
   "source": [
    "df_cleaned = spark.read.option(\"header\", True).csv(\"s3a://clean/erp/PX_CAT_G1V2_clean.csv\")\n",
    "df_cleaned.show()"
   ]
  },
  {
   "cell_type": "code",
   "execution_count": 9,
   "id": "50aec090-0937-4aad-b26d-46479ee1653a",
   "metadata": {},
   "outputs": [
    {
     "data": {
      "text/plain": [
       "<duckdb.duckdb.DuckDBPyConnection at 0x7feda9411bb0>"
      ]
     },
     "execution_count": 9,
     "metadata": {},
     "output_type": "execute_result"
    }
   ],
   "source": [
    "import duckdb\n",
    "\n",
    "# Convert dari Spark ke Pandas\n",
    "df_cleaned_PX_CAT_G1V2 = df_cleaned.toPandas()\n",
    "\n",
    "# Connect ke DuckDB\n",
    "con = duckdb.connect(\"/mnt/d/data_engineering/duckdb/db/dev.duckdb\")\n",
    "\n",
    "# Simpan sebagai tabel DuckDB (view)\n",
    "con.register(\"erp_PX_CAT_G1V2_clean_view\", df_cleaned_PX_CAT_G1V2)\n",
    "\n",
    "# Simpan sebagai tabel DuckDB (bukan view)\n",
    "con.execute(\"CREATE OR REPLACE TABLE erp_PX_CAT_G1V2_clean AS SELECT * FROM erp_PX_CAT_G1V2_clean_view\")"
   ]
  },
  {
   "cell_type": "code",
   "execution_count": 7,
   "id": "53935f18-55b0-419a-a44d-af9ee8e69b04",
   "metadata": {},
   "outputs": [
    {
     "data": {
      "text/html": [
       "<style type=\"text/css\">\n",
       "</style>\n",
       "<table id=\"T_582c4\">\n",
       "  <thead>\n",
       "    <tr>\n",
       "      <th id=\"T_582c4_level0_col0\" class=\"col_heading level0 col0\" >id</th>\n",
       "      <th id=\"T_582c4_level0_col1\" class=\"col_heading level0 col1\" >cat</th>\n",
       "      <th id=\"T_582c4_level0_col2\" class=\"col_heading level0 col2\" >subcat</th>\n",
       "      <th id=\"T_582c4_level0_col3\" class=\"col_heading level0 col3\" >maintenance</th>\n",
       "    </tr>\n",
       "  </thead>\n",
       "  <tbody>\n",
       "    <tr>\n",
       "      <td id=\"T_582c4_row0_col0\" class=\"data row0 col0\" >AC_BR</td>\n",
       "      <td id=\"T_582c4_row0_col1\" class=\"data row0 col1\" >Accessories</td>\n",
       "      <td id=\"T_582c4_row0_col2\" class=\"data row0 col2\" >Bike Racks</td>\n",
       "      <td id=\"T_582c4_row0_col3\" class=\"data row0 col3\" >Yes</td>\n",
       "    </tr>\n",
       "    <tr>\n",
       "      <td id=\"T_582c4_row1_col0\" class=\"data row1 col0\" >AC_BS</td>\n",
       "      <td id=\"T_582c4_row1_col1\" class=\"data row1 col1\" >Accessories</td>\n",
       "      <td id=\"T_582c4_row1_col2\" class=\"data row1 col2\" >Bike Stands</td>\n",
       "      <td id=\"T_582c4_row1_col3\" class=\"data row1 col3\" >No</td>\n",
       "    </tr>\n",
       "    <tr>\n",
       "      <td id=\"T_582c4_row2_col0\" class=\"data row2 col0\" >AC_BC</td>\n",
       "      <td id=\"T_582c4_row2_col1\" class=\"data row2 col1\" >Accessories</td>\n",
       "      <td id=\"T_582c4_row2_col2\" class=\"data row2 col2\" >Bottles and Cages</td>\n",
       "      <td id=\"T_582c4_row2_col3\" class=\"data row2 col3\" >No</td>\n",
       "    </tr>\n",
       "    <tr>\n",
       "      <td id=\"T_582c4_row3_col0\" class=\"data row3 col0\" >AC_CL</td>\n",
       "      <td id=\"T_582c4_row3_col1\" class=\"data row3 col1\" >Accessories</td>\n",
       "      <td id=\"T_582c4_row3_col2\" class=\"data row3 col2\" >Cleaners</td>\n",
       "      <td id=\"T_582c4_row3_col3\" class=\"data row3 col3\" >Yes</td>\n",
       "    </tr>\n",
       "    <tr>\n",
       "      <td id=\"T_582c4_row4_col0\" class=\"data row4 col0\" >AC_FE</td>\n",
       "      <td id=\"T_582c4_row4_col1\" class=\"data row4 col1\" >Accessories</td>\n",
       "      <td id=\"T_582c4_row4_col2\" class=\"data row4 col2\" >Fenders</td>\n",
       "      <td id=\"T_582c4_row4_col3\" class=\"data row4 col3\" >No</td>\n",
       "    </tr>\n",
       "    <tr>\n",
       "      <td id=\"T_582c4_row5_col0\" class=\"data row5 col0\" >AC_HE</td>\n",
       "      <td id=\"T_582c4_row5_col1\" class=\"data row5 col1\" >Accessories</td>\n",
       "      <td id=\"T_582c4_row5_col2\" class=\"data row5 col2\" >Helmets</td>\n",
       "      <td id=\"T_582c4_row5_col3\" class=\"data row5 col3\" >Yes</td>\n",
       "    </tr>\n",
       "    <tr>\n",
       "      <td id=\"T_582c4_row6_col0\" class=\"data row6 col0\" >AC_HP</td>\n",
       "      <td id=\"T_582c4_row6_col1\" class=\"data row6 col1\" >Accessories</td>\n",
       "      <td id=\"T_582c4_row6_col2\" class=\"data row6 col2\" >Hydration Packs</td>\n",
       "      <td id=\"T_582c4_row6_col3\" class=\"data row6 col3\" >No</td>\n",
       "    </tr>\n",
       "    <tr>\n",
       "      <td id=\"T_582c4_row7_col0\" class=\"data row7 col0\" >AC_LI</td>\n",
       "      <td id=\"T_582c4_row7_col1\" class=\"data row7 col1\" >Accessories</td>\n",
       "      <td id=\"T_582c4_row7_col2\" class=\"data row7 col2\" >Lights</td>\n",
       "      <td id=\"T_582c4_row7_col3\" class=\"data row7 col3\" >Yes</td>\n",
       "    </tr>\n",
       "    <tr>\n",
       "      <td id=\"T_582c4_row8_col0\" class=\"data row8 col0\" >AC_LO</td>\n",
       "      <td id=\"T_582c4_row8_col1\" class=\"data row8 col1\" >Accessories</td>\n",
       "      <td id=\"T_582c4_row8_col2\" class=\"data row8 col2\" >Locks</td>\n",
       "      <td id=\"T_582c4_row8_col3\" class=\"data row8 col3\" >Yes</td>\n",
       "    </tr>\n",
       "    <tr>\n",
       "      <td id=\"T_582c4_row9_col0\" class=\"data row9 col0\" >AC_PA</td>\n",
       "      <td id=\"T_582c4_row9_col1\" class=\"data row9 col1\" >Accessories</td>\n",
       "      <td id=\"T_582c4_row9_col2\" class=\"data row9 col2\" >Panniers</td>\n",
       "      <td id=\"T_582c4_row9_col3\" class=\"data row9 col3\" >No</td>\n",
       "    </tr>\n",
       "  </tbody>\n",
       "</table>\n"
      ],
      "text/plain": [
       "<pandas.io.formats.style.Styler at 0x7fedc4bf3c70>"
      ]
     },
     "execution_count": 7,
     "metadata": {},
     "output_type": "execute_result"
    }
   ],
   "source": [
    "con.execute(\"SELECT * FROM erp_PX_CAT_G1V2_clean LIMIT 10\").df().style.hide(axis=\"index\")"
   ]
  },
  {
   "cell_type": "code",
   "execution_count": 11,
   "id": "3b4f6a66-9463-40c4-a8f8-733503c5701e",
   "metadata": {},
   "outputs": [],
   "source": [
    "con.close()"
   ]
  },
  {
   "cell_type": "code",
   "execution_count": null,
   "id": "8f83a17d-54a9-47e1-a914-3b4c804b3e88",
   "metadata": {},
   "outputs": [],
   "source": []
  }
 ],
 "metadata": {
  "kernelspec": {
   "display_name": "PySpark (spark_venv)",
   "language": "python",
   "name": "spark_venv"
  },
  "language_info": {
   "codemirror_mode": {
    "name": "ipython",
    "version": 3
   },
   "file_extension": ".py",
   "mimetype": "text/x-python",
   "name": "python",
   "nbconvert_exporter": "python",
   "pygments_lexer": "ipython3",
   "version": "3.8.10"
  }
 },
 "nbformat": 4,
 "nbformat_minor": 5
}
