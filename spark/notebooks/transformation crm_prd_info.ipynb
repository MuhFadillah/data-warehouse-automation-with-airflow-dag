{
 "cells": [
  {
   "cell_type": "code",
   "execution_count": 1,
   "id": "5fe1812f-2173-4c88-9641-f293a44b092c",
   "metadata": {
    "scrolled": true
   },
   "outputs": [
    {
     "name": "stderr",
     "output_type": "stream",
     "text": [
      "25/05/23 13:24:20 WARN Utils: Your hostname, lenovo-PC resolves to a loopback address: 127.0.1.1; using 172.31.112.46 instead (on interface eth0)\n",
      "25/05/23 13:24:20 WARN Utils: Set SPARK_LOCAL_IP if you need to bind to another address\n"
     ]
    },
    {
     "name": "stdout",
     "output_type": "stream",
     "text": [
      ":: loading settings :: url = jar:file:/home/ubuntucoy/spark/jars/ivy-2.5.1.jar!/org/apache/ivy/core/settings/ivysettings.xml\n"
     ]
    },
    {
     "name": "stderr",
     "output_type": "stream",
     "text": [
      "Ivy Default Cache set to: /home/ubuntucoy/.ivy2/cache\n",
      "The jars for the packages stored in: /home/ubuntucoy/.ivy2/jars\n",
      "org.apache.hadoop#hadoop-aws added as a dependency\n",
      "com.amazonaws#aws-java-sdk-bundle added as a dependency\n",
      ":: resolving dependencies :: org.apache.spark#spark-submit-parent-12d173b4-07db-46b6-9681-0aeb63867fa6;1.0\n",
      "\tconfs: [default]\n",
      "\tfound org.apache.hadoop#hadoop-aws;3.3.2 in central\n",
      "\tfound com.amazonaws#aws-java-sdk-bundle;1.11.1026 in central\n",
      "\tfound org.wildfly.openssl#wildfly-openssl;1.0.7.Final in central\n",
      ":: resolution report :: resolve 1536ms :: artifacts dl 31ms\n",
      "\t:: modules in use:\n",
      "\tcom.amazonaws#aws-java-sdk-bundle;1.11.1026 from central in [default]\n",
      "\torg.apache.hadoop#hadoop-aws;3.3.2 from central in [default]\n",
      "\torg.wildfly.openssl#wildfly-openssl;1.0.7.Final from central in [default]\n",
      "\t:: evicted modules:\n",
      "\tcom.amazonaws#aws-java-sdk-bundle;1.11.901 by [com.amazonaws#aws-java-sdk-bundle;1.11.1026] in [default]\n",
      "\t---------------------------------------------------------------------\n",
      "\t|                  |            modules            ||   artifacts   |\n",
      "\t|       conf       | number| search|dwnlded|evicted|| number|dwnlded|\n",
      "\t---------------------------------------------------------------------\n",
      "\t|      default     |   4   |   0   |   0   |   1   ||   3   |   0   |\n",
      "\t---------------------------------------------------------------------\n",
      ":: retrieving :: org.apache.spark#spark-submit-parent-12d173b4-07db-46b6-9681-0aeb63867fa6\n",
      "\tconfs: [default]\n",
      "\t0 artifacts copied, 3 already retrieved (0kB/23ms)\n",
      "25/05/23 13:24:26 WARN NativeCodeLoader: Unable to load native-hadoop library for your platform... using builtin-java classes where applicable\n",
      "Setting default log level to \"WARN\".\n",
      "To adjust logging level use sc.setLogLevel(newLevel). For SparkR, use setLogLevel(newLevel).\n",
      "25/05/23 13:26:18 ERROR Inbox: Ignoring error\n",
      "java.lang.NullPointerException\n",
      "\tat org.apache.spark.storage.BlockManagerMasterEndpoint.org$apache$spark$storage$BlockManagerMasterEndpoint$$register(BlockManagerMasterEndpoint.scala:677)\n",
      "\tat org.apache.spark.storage.BlockManagerMasterEndpoint$$anonfun$receiveAndReply$1.applyOrElse(BlockManagerMasterEndpoint.scala:133)\n",
      "\tat org.apache.spark.rpc.netty.Inbox.$anonfun$process$1(Inbox.scala:103)\n",
      "\tat org.apache.spark.rpc.netty.Inbox.safelyCall(Inbox.scala:213)\n",
      "\tat org.apache.spark.rpc.netty.Inbox.process(Inbox.scala:100)\n",
      "\tat org.apache.spark.rpc.netty.MessageLoop.org$apache$spark$rpc$netty$MessageLoop$$receiveLoop(MessageLoop.scala:75)\n",
      "\tat org.apache.spark.rpc.netty.MessageLoop$$anon$1.run(MessageLoop.scala:41)\n",
      "\tat java.base/java.util.concurrent.ThreadPoolExecutor.runWorker(ThreadPoolExecutor.java:1128)\n",
      "\tat java.base/java.util.concurrent.ThreadPoolExecutor$Worker.run(ThreadPoolExecutor.java:628)\n",
      "\tat java.base/java.lang.Thread.run(Thread.java:829)\n",
      "25/05/23 13:26:18 WARN Executor: Issue communicating with driver in heartbeater\n",
      "org.apache.spark.SparkException: Exception thrown in awaitResult: \n",
      "\tat org.apache.spark.util.SparkThreadUtils$.awaitResult(SparkThreadUtils.scala:56)\n",
      "\tat org.apache.spark.util.ThreadUtils$.awaitResult(ThreadUtils.scala:310)\n",
      "\tat org.apache.spark.rpc.RpcTimeout.awaitResult(RpcTimeout.scala:75)\n",
      "\tat org.apache.spark.rpc.RpcEndpointRef.askSync(RpcEndpointRef.scala:101)\n",
      "\tat org.apache.spark.rpc.RpcEndpointRef.askSync(RpcEndpointRef.scala:85)\n",
      "\tat org.apache.spark.storage.BlockManagerMaster.registerBlockManager(BlockManagerMaster.scala:80)\n",
      "\tat org.apache.spark.storage.BlockManager.reregister(BlockManager.scala:642)\n",
      "\tat org.apache.spark.executor.Executor.reportHeartBeat(Executor.scala:1223)\n",
      "\tat org.apache.spark.executor.Executor.$anonfun$heartbeater$1(Executor.scala:295)\n",
      "\tat scala.runtime.java8.JFunction0$mcV$sp.apply(JFunction0$mcV$sp.java:23)\n",
      "\tat org.apache.spark.util.Utils$.logUncaughtExceptions(Utils.scala:1928)\n",
      "\tat org.apache.spark.Heartbeater$$anon$1.run(Heartbeater.scala:46)\n",
      "\tat java.base/java.util.concurrent.Executors$RunnableAdapter.call(Executors.java:515)\n",
      "\tat java.base/java.util.concurrent.FutureTask.runAndReset(FutureTask.java:305)\n",
      "\tat java.base/java.util.concurrent.ScheduledThreadPoolExecutor$ScheduledFutureTask.run(ScheduledThreadPoolExecutor.java:305)\n",
      "\tat java.base/java.util.concurrent.ThreadPoolExecutor.runWorker(ThreadPoolExecutor.java:1128)\n",
      "\tat java.base/java.util.concurrent.ThreadPoolExecutor$Worker.run(ThreadPoolExecutor.java:628)\n",
      "\tat java.base/java.lang.Thread.run(Thread.java:829)\n",
      "Caused by: java.lang.NullPointerException\n",
      "\tat org.apache.spark.storage.BlockManagerMasterEndpoint.org$apache$spark$storage$BlockManagerMasterEndpoint$$register(BlockManagerMasterEndpoint.scala:677)\n",
      "\tat org.apache.spark.storage.BlockManagerMasterEndpoint$$anonfun$receiveAndReply$1.applyOrElse(BlockManagerMasterEndpoint.scala:133)\n",
      "\tat org.apache.spark.rpc.netty.Inbox.$anonfun$process$1(Inbox.scala:103)\n",
      "\tat org.apache.spark.rpc.netty.Inbox.safelyCall(Inbox.scala:213)\n",
      "\tat org.apache.spark.rpc.netty.Inbox.process(Inbox.scala:100)\n",
      "\tat org.apache.spark.rpc.netty.MessageLoop.org$apache$spark$rpc$netty$MessageLoop$$receiveLoop(MessageLoop.scala:75)\n",
      "\tat org.apache.spark.rpc.netty.MessageLoop$$anon$1.run(MessageLoop.scala:41)\n",
      "\t... 3 more\n",
      "25/05/23 13:26:25 ERROR Inbox: Ignoring error\n",
      "java.lang.NullPointerException\n",
      "\tat org.apache.spark.storage.BlockManagerMasterEndpoint.org$apache$spark$storage$BlockManagerMasterEndpoint$$register(BlockManagerMasterEndpoint.scala:677)\n",
      "\tat org.apache.spark.storage.BlockManagerMasterEndpoint$$anonfun$receiveAndReply$1.applyOrElse(BlockManagerMasterEndpoint.scala:133)\n",
      "\tat org.apache.spark.rpc.netty.Inbox.$anonfun$process$1(Inbox.scala:103)\n",
      "\tat org.apache.spark.rpc.netty.Inbox.safelyCall(Inbox.scala:213)\n",
      "\tat org.apache.spark.rpc.netty.Inbox.process(Inbox.scala:100)\n",
      "\tat org.apache.spark.rpc.netty.MessageLoop.org$apache$spark$rpc$netty$MessageLoop$$receiveLoop(MessageLoop.scala:75)\n",
      "\tat org.apache.spark.rpc.netty.MessageLoop$$anon$1.run(MessageLoop.scala:41)\n",
      "\tat java.base/java.util.concurrent.ThreadPoolExecutor.runWorker(ThreadPoolExecutor.java:1128)\n",
      "\tat java.base/java.util.concurrent.ThreadPoolExecutor$Worker.run(ThreadPoolExecutor.java:628)\n",
      "\tat java.base/java.lang.Thread.run(Thread.java:829)\n",
      "25/05/23 13:26:26 WARN Executor: Issue communicating with driver in heartbeater\n",
      "org.apache.spark.SparkException: Exception thrown in awaitResult: \n",
      "\tat org.apache.spark.util.SparkThreadUtils$.awaitResult(SparkThreadUtils.scala:56)\n",
      "\tat org.apache.spark.util.ThreadUtils$.awaitResult(ThreadUtils.scala:310)\n",
      "\tat org.apache.spark.rpc.RpcTimeout.awaitResult(RpcTimeout.scala:75)\n",
      "\tat org.apache.spark.rpc.RpcEndpointRef.askSync(RpcEndpointRef.scala:101)\n",
      "\tat org.apache.spark.rpc.RpcEndpointRef.askSync(RpcEndpointRef.scala:85)\n",
      "\tat org.apache.spark.storage.BlockManagerMaster.registerBlockManager(BlockManagerMaster.scala:80)\n",
      "\tat org.apache.spark.storage.BlockManager.reregister(BlockManager.scala:642)\n",
      "\tat org.apache.spark.executor.Executor.reportHeartBeat(Executor.scala:1223)\n",
      "\tat org.apache.spark.executor.Executor.$anonfun$heartbeater$1(Executor.scala:295)\n",
      "\tat scala.runtime.java8.JFunction0$mcV$sp.apply(JFunction0$mcV$sp.java:23)\n",
      "\tat org.apache.spark.util.Utils$.logUncaughtExceptions(Utils.scala:1928)\n",
      "\tat org.apache.spark.Heartbeater$$anon$1.run(Heartbeater.scala:46)\n",
      "\tat java.base/java.util.concurrent.Executors$RunnableAdapter.call(Executors.java:515)\n",
      "\tat java.base/java.util.concurrent.FutureTask.runAndReset(FutureTask.java:305)\n",
      "\tat java.base/java.util.concurrent.ScheduledThreadPoolExecutor$ScheduledFutureTask.run(ScheduledThreadPoolExecutor.java:305)\n",
      "\tat java.base/java.util.concurrent.ThreadPoolExecutor.runWorker(ThreadPoolExecutor.java:1128)\n",
      "\tat java.base/java.util.concurrent.ThreadPoolExecutor$Worker.run(ThreadPoolExecutor.java:628)\n",
      "\tat java.base/java.lang.Thread.run(Thread.java:829)\n",
      "Caused by: java.lang.NullPointerException\n",
      "\tat org.apache.spark.storage.BlockManagerMasterEndpoint.org$apache$spark$storage$BlockManagerMasterEndpoint$$register(BlockManagerMasterEndpoint.scala:677)\n",
      "\tat org.apache.spark.storage.BlockManagerMasterEndpoint$$anonfun$receiveAndReply$1.applyOrElse(BlockManagerMasterEndpoint.scala:133)\n",
      "\tat org.apache.spark.rpc.netty.Inbox.$anonfun$process$1(Inbox.scala:103)\n",
      "\tat org.apache.spark.rpc.netty.Inbox.safelyCall(Inbox.scala:213)\n",
      "\tat org.apache.spark.rpc.netty.Inbox.process(Inbox.scala:100)\n",
      "\tat org.apache.spark.rpc.netty.MessageLoop.org$apache$spark$rpc$netty$MessageLoop$$receiveLoop(MessageLoop.scala:75)\n",
      "\tat org.apache.spark.rpc.netty.MessageLoop$$anon$1.run(MessageLoop.scala:41)\n",
      "\t... 3 more\n"
     ]
    }
   ],
   "source": [
    "from pyspark.sql import SparkSession\n",
    "\n",
    "spark = SparkSession.builder \\\n",
    "    .appName(\"ELT_PySpark\") \\\n",
    "    .config(\"spark.jars.packages\", \"org.apache.hadoop:hadoop-aws:3.3.2,com.amazonaws:aws-java-sdk-bundle:1.11.901\") \\\n",
    "    .config(\"spark.hadoop.fs.s3a.endpoint\", \"http://localhost:9000\") \\\n",
    "    .config(\"spark.hadoop.fs.s3a.access.key\", \"minioadmin\") \\\n",
    "    .config(\"spark.hadoop.fs.s3a.secret.key\", \"minioadmin123\") \\\n",
    "    .config(\"spark.hadoop.fs.s3a.path.style.access\", \"true\") \\\n",
    "    .config(\"spark.hadoop.fs.s3a.impl\", \"org.apache.hadoop.fs.s3a.S3AFileSystem\") \\\n",
    "    .getOrCreate()"
   ]
  },
  {
   "cell_type": "code",
   "execution_count": 2,
   "id": "2f3aa516-3ee5-44e2-b628-ac8792f01b5a",
   "metadata": {},
   "outputs": [
    {
     "name": "stderr",
     "output_type": "stream",
     "text": [
      "25/05/23 13:27:25 WARN MetricsConfig: Cannot locate configuration: tried hadoop-metrics2-s3a-file-system.properties,hadoop-metrics2.properties\n",
      "                                                                                "
     ]
    },
    {
     "name": "stdout",
     "output_type": "stream",
     "text": [
      "+------+----------------+--------------------+--------+--------+------------+----------+\n",
      "|prd_id|         prd_key|              prd_nm|prd_cost|prd_line|prd_start_dt|prd_end_dt|\n",
      "+------+----------------+--------------------+--------+--------+------------+----------+\n",
      "|   210|CO-RF-FR-R92B-58|HL Road Frame - B...|    NULL|      R |  2003-07-01|      NULL|\n",
      "|   211|CO-RF-FR-R92R-58|HL Road Frame - R...|    NULL|      R |  2003-07-01|      NULL|\n",
      "|   212| AC-HE-HL-U509-R|Sport-100 Helmet-...|      12|      S |  2011-07-01|2007-12-28|\n",
      "|   213| AC-HE-HL-U509-R|Sport-100 Helmet-...|      14|      S |  2012-07-01|2008-12-27|\n",
      "|   214| AC-HE-HL-U509-R|Sport-100 Helmet-...|      13|      S |  2013-07-01|      NULL|\n",
      "|   215|   AC-HE-HL-U509|Sport-100 Helmet-...|      12|      S |  2011-07-01|2007-12-28|\n",
      "|   216|   AC-HE-HL-U509|Sport-100 Helmet-...|      14|      S |  2012-07-01|2008-12-27|\n",
      "|   217|   AC-HE-HL-U509|Sport-100 Helmet-...|      13|      S |  2013-07-01|      NULL|\n",
      "|   218| CL-SO-SO-B909-M|Mountain Bike Soc...|       3|      M |  2011-07-01|2007-12-28|\n",
      "|   219| CL-SO-SO-B909-L|Mountain Bike Soc...|       3|      M |  2011-07-01|2007-12-28|\n",
      "|   220| AC-HE-HL-U509-B|Sport-100 Helmet-...|      12|      S |  2011-07-01|2007-12-28|\n",
      "|   221| AC-HE-HL-U509-B|Sport-100 Helmet-...|      14|      S |  2012-07-01|2008-12-27|\n",
      "|   222| AC-HE-HL-U509-B|Sport-100 Helmet-...|      13|      S |  2013-07-01|      NULL|\n",
      "|   223|   CL-CA-CA-1098|        AWC Logo Cap|       6|      S |  2011-07-01|2007-12-28|\n",
      "|   224|   CL-CA-CA-1098|        AWC Logo Cap|       5|      S |  2012-07-01|2008-12-27|\n",
      "|   225|   CL-CA-CA-1098|        AWC Logo Cap|       7|      S |  2013-07-01|      NULL|\n",
      "|   226| CL-JE-LJ-0192-S|Long-Sleeve Logo ...|      32|      S |  2011-07-01|2007-12-28|\n",
      "|   227| CL-JE-LJ-0192-S|Long-Sleeve Logo ...|      29|      S |  2012-07-01|2008-12-27|\n",
      "|   228| CL-JE-LJ-0192-S|Long-Sleeve Logo ...|      38|      S |  2013-07-01|      NULL|\n",
      "|   229| CL-JE-LJ-0192-M|Long-Sleeve Logo ...|      32|      S |  2011-07-01|2007-12-28|\n",
      "+------+----------------+--------------------+--------+--------+------------+----------+\n",
      "only showing top 20 rows\n",
      "\n"
     ]
    }
   ],
   "source": [
    "df = spark.read.csv(\"s3a://raw/crm/prd_info.csv\", header=True, inferSchema=True)\n",
    "df.show()"
   ]
  },
  {
   "cell_type": "code",
   "execution_count": 3,
   "id": "12ee2368-7b00-46ba-a5de-ff1be74e8e4a",
   "metadata": {
    "scrolled": true
   },
   "outputs": [
    {
     "name": "stderr",
     "output_type": "stream",
     "text": [
      "                                                                                "
     ]
    },
    {
     "name": "stdout",
     "output_type": "stream",
     "text": [
      "+------+------+----------+--------------------+--------+-----------+------------+----------+\n",
      "|prd_id|cat_id|   prd_key|              prd_nm|prd_cost|   prd_line|prd_start_dt|prd_end_dt|\n",
      "+------+------+----------+--------------------+--------+-----------+------------+----------+\n",
      "|   210| CO_RF|FR-R92B-58|HL Road Frame - B...|       0|       Road|  2003-07-01|      NULL|\n",
      "|   211| CO_RF|FR-R92R-58|HL Road Frame - R...|       0|       Road|  2003-07-01|      NULL|\n",
      "|   212| AC_HE| HL-U509-R|Sport-100 Helmet-...|      12|Other Sales|  2011-07-01|2012-06-30|\n",
      "|   213| AC_HE| HL-U509-R|Sport-100 Helmet-...|      14|Other Sales|  2012-07-01|2013-06-30|\n",
      "|   214| AC_HE| HL-U509-R|Sport-100 Helmet-...|      13|Other Sales|  2013-07-01|      NULL|\n",
      "|   215| AC_HE|   HL-U509|Sport-100 Helmet-...|      12|Other Sales|  2011-07-01|2012-06-30|\n",
      "|   216| AC_HE|   HL-U509|Sport-100 Helmet-...|      14|Other Sales|  2012-07-01|2013-06-30|\n",
      "|   217| AC_HE|   HL-U509|Sport-100 Helmet-...|      13|Other Sales|  2013-07-01|      NULL|\n",
      "|   218| CL_SO| SO-B909-M|Mountain Bike Soc...|       3|   Mountain|  2011-07-01|      NULL|\n",
      "|   219| CL_SO| SO-B909-L|Mountain Bike Soc...|       3|   Mountain|  2011-07-01|      NULL|\n",
      "|   220| AC_HE| HL-U509-B|Sport-100 Helmet-...|      12|Other Sales|  2011-07-01|2012-06-30|\n",
      "|   221| AC_HE| HL-U509-B|Sport-100 Helmet-...|      14|Other Sales|  2012-07-01|2013-06-30|\n",
      "|   222| AC_HE| HL-U509-B|Sport-100 Helmet-...|      13|Other Sales|  2013-07-01|      NULL|\n",
      "|   223| CL_CA|   CA-1098|        AWC Logo Cap|       6|Other Sales|  2011-07-01|2012-06-30|\n",
      "|   224| CL_CA|   CA-1098|        AWC Logo Cap|       5|Other Sales|  2012-07-01|2013-06-30|\n",
      "|   225| CL_CA|   CA-1098|        AWC Logo Cap|       7|Other Sales|  2013-07-01|      NULL|\n",
      "|   226| CL_JE| LJ-0192-S|Long-Sleeve Logo ...|      32|Other Sales|  2011-07-01|2012-06-30|\n",
      "|   227| CL_JE| LJ-0192-S|Long-Sleeve Logo ...|      29|Other Sales|  2012-07-01|2013-06-30|\n",
      "|   228| CL_JE| LJ-0192-S|Long-Sleeve Logo ...|      38|Other Sales|  2013-07-01|      NULL|\n",
      "|   229| CL_JE| LJ-0192-M|Long-Sleeve Logo ...|      32|Other Sales|  2011-07-01|2012-06-30|\n",
      "+------+------+----------+--------------------+--------+-----------+------------+----------+\n",
      "only showing top 20 rows\n",
      "\n"
     ]
    }
   ],
   "source": [
    "from pyspark.sql.functions import ( \n",
    "    col, trim, upper, when, substring, coalesce, expr, lead, regexp_replace, length\n",
    ")\n",
    "from pyspark.sql.window import Window\n",
    "\n",
    "# Window spec untuk LEAD\n",
    "window_spec = Window.partitionBy(\"prd_key\").orderBy(\"prd_start_dt\")\n",
    "\n",
    "# Transformasi\n",
    "df_transformed = (\n",
    "    df.select(\n",
    "        \"prd_id\",\n",
    "        regexp_replace(substring(\"prd_key\", 1, 5), \"-\", \"_\").alias(\"cat_id\"),   # Extract category id\n",
    "        expr(\"substring(prd_key, 7,length(prd_key))\").alias(\"prd_key\"), # Extract product key\n",
    "        \"prd_nm\",\n",
    "        coalesce(col(\"prd_cost\"), expr(\"0\")).alias(\"prd_cost\"),   # Null handling cost\n",
    "        when(upper(trim(col(\"prd_line\"))) == \"M\", \"Mountain\")\n",
    "            .when(upper(trim(col(\"prd_line\"))) == \"R\", \"Road\")\n",
    "            .when(upper(trim(col(\"prd_line\"))) == \"S\", \"Other Sales\")\n",
    "            .when(upper(trim(col(\"prd_line\"))) == \"T\", \"Touring\")\n",
    "            .otherwise(\"n/a\")\n",
    "            .alias(\"prd_line\"),\n",
    "        # Convert ke DATE (anggap sudah bertipe timestamp/string yang bisa dikonversi otomatis)\n",
    "        col(\"prd_start_dt\").cast(\"date\").alias(\"prd_start_dt\"),\n",
    "        (lead(\"prd_start_dt\").over(window_spec).cast(\"date\") - expr(\"INTERVAL 1 day\")).alias(\"prd_end_dt\") # LEAD window untuk menghitung end date\n",
    "    )\n",
    "    .orderBy(\"prd_id\") \n",
    ")\n",
    "df_transformed.show()"
   ]
  },
  {
   "cell_type": "code",
   "execution_count": 4,
   "id": "b631a4c6-1801-42cb-96d0-8969620705cc",
   "metadata": {},
   "outputs": [
    {
     "name": "stderr",
     "output_type": "stream",
     "text": [
      "25/05/23 13:30:32 WARN AbstractS3ACommitterFactory: Using standard FileOutputCommitter to commit work. This is slow and potentially unsafe.\n",
      "25/05/23 13:30:34 WARN AbstractS3ACommitterFactory: Using standard FileOutputCommitter to commit work. This is slow and potentially unsafe.\n",
      "                                                                                "
     ]
    }
   ],
   "source": [
    "df_transformed.write \\\n",
    "    .mode(\"overwrite\") \\\n",
    "    .option(\"header\", True) \\\n",
    "    .csv(\"s3a://clean/crm/prd_info_clean.csv\")"
   ]
  },
  {
   "cell_type": "code",
   "execution_count": 5,
   "id": "9011426d-6904-4975-8cc9-1351f3445df8",
   "metadata": {},
   "outputs": [
    {
     "name": "stdout",
     "output_type": "stream",
     "text": [
      "+------+------+----------+--------------------+--------+-----------+------------+----------+\n",
      "|prd_id|cat_id|   prd_key|              prd_nm|prd_cost|   prd_line|prd_start_dt|prd_end_dt|\n",
      "+------+------+----------+--------------------+--------+-----------+------------+----------+\n",
      "|   210| CO_RF|FR-R92B-58|HL Road Frame - B...|       0|       Road|  2003-07-01|      NULL|\n",
      "|   211| CO_RF|FR-R92R-58|HL Road Frame - R...|       0|       Road|  2003-07-01|      NULL|\n",
      "|   212| AC_HE| HL-U509-R|Sport-100 Helmet-...|      12|Other Sales|  2011-07-01|2012-06-30|\n",
      "|   213| AC_HE| HL-U509-R|Sport-100 Helmet-...|      14|Other Sales|  2012-07-01|2013-06-30|\n",
      "|   214| AC_HE| HL-U509-R|Sport-100 Helmet-...|      13|Other Sales|  2013-07-01|      NULL|\n",
      "|   215| AC_HE|   HL-U509|Sport-100 Helmet-...|      12|Other Sales|  2011-07-01|2012-06-30|\n",
      "|   216| AC_HE|   HL-U509|Sport-100 Helmet-...|      14|Other Sales|  2012-07-01|2013-06-30|\n",
      "|   217| AC_HE|   HL-U509|Sport-100 Helmet-...|      13|Other Sales|  2013-07-01|      NULL|\n",
      "|   218| CL_SO| SO-B909-M|Mountain Bike Soc...|       3|   Mountain|  2011-07-01|      NULL|\n",
      "|   219| CL_SO| SO-B909-L|Mountain Bike Soc...|       3|   Mountain|  2011-07-01|      NULL|\n",
      "|   220| AC_HE| HL-U509-B|Sport-100 Helmet-...|      12|Other Sales|  2011-07-01|2012-06-30|\n",
      "|   221| AC_HE| HL-U509-B|Sport-100 Helmet-...|      14|Other Sales|  2012-07-01|2013-06-30|\n",
      "|   222| AC_HE| HL-U509-B|Sport-100 Helmet-...|      13|Other Sales|  2013-07-01|      NULL|\n",
      "|   223| CL_CA|   CA-1098|        AWC Logo Cap|       6|Other Sales|  2011-07-01|2012-06-30|\n",
      "|   224| CL_CA|   CA-1098|        AWC Logo Cap|       5|Other Sales|  2012-07-01|2013-06-30|\n",
      "|   225| CL_CA|   CA-1098|        AWC Logo Cap|       7|Other Sales|  2013-07-01|      NULL|\n",
      "|   226| CL_JE| LJ-0192-S|Long-Sleeve Logo ...|      32|Other Sales|  2011-07-01|2012-06-30|\n",
      "|   227| CL_JE| LJ-0192-S|Long-Sleeve Logo ...|      29|Other Sales|  2012-07-01|2013-06-30|\n",
      "|   228| CL_JE| LJ-0192-S|Long-Sleeve Logo ...|      38|Other Sales|  2013-07-01|      NULL|\n",
      "|   229| CL_JE| LJ-0192-M|Long-Sleeve Logo ...|      32|Other Sales|  2011-07-01|2012-06-30|\n",
      "+------+------+----------+--------------------+--------+-----------+------------+----------+\n",
      "only showing top 20 rows\n",
      "\n"
     ]
    }
   ],
   "source": [
    "df_cleaned = spark.read.option(\"header\", True).csv(\"s3a://clean/crm/prd_info_clean.csv\")\n",
    "df_cleaned.show()"
   ]
  },
  {
   "cell_type": "code",
   "execution_count": 6,
   "id": "db3ce0b4-7f0f-480e-bc52-47140bda60ef",
   "metadata": {},
   "outputs": [
    {
     "data": {
      "text/plain": [
       "<duckdb.duckdb.DuckDBPyConnection at 0x7f4fe91b5f30>"
      ]
     },
     "execution_count": 6,
     "metadata": {},
     "output_type": "execute_result"
    }
   ],
   "source": [
    "import duckdb\n",
    "\n",
    "# Convert dari Spark ke Pandas\n",
    "df_cleaned_prd_info = df_cleaned.toPandas()\n",
    "\n",
    "# Connect ke DuckDB\n",
    "con = duckdb.connect(\"/mnt/d/data_engineering/duckdb/db/dev.duckdb\")\n",
    "\n",
    "# Simpan sebagai tabel DuckDB (view)\n",
    "con.register(\"crm_prd_info_clean_view\", df_cleaned_prd_info)\n",
    "\n",
    "# Simpan sebagai tabel DuckDB (bukan view)\n",
    "con.execute(\"CREATE OR REPLACE TABLE crm_prd_info_clean AS SELECT * FROM crm_prd_info_clean_view\")"
   ]
  },
  {
   "cell_type": "code",
   "execution_count": 7,
   "id": "53e0c019-8b93-4c4c-b6ca-5f4c5fd4133c",
   "metadata": {},
   "outputs": [
    {
     "data": {
      "text/html": [
       "<style type=\"text/css\">\n",
       "</style>\n",
       "<table id=\"T_569d3\">\n",
       "  <thead>\n",
       "    <tr>\n",
       "      <th id=\"T_569d3_level0_col0\" class=\"col_heading level0 col0\" >prd_id</th>\n",
       "      <th id=\"T_569d3_level0_col1\" class=\"col_heading level0 col1\" >cat_id</th>\n",
       "      <th id=\"T_569d3_level0_col2\" class=\"col_heading level0 col2\" >prd_key</th>\n",
       "      <th id=\"T_569d3_level0_col3\" class=\"col_heading level0 col3\" >prd_nm</th>\n",
       "      <th id=\"T_569d3_level0_col4\" class=\"col_heading level0 col4\" >prd_cost</th>\n",
       "      <th id=\"T_569d3_level0_col5\" class=\"col_heading level0 col5\" >prd_line</th>\n",
       "      <th id=\"T_569d3_level0_col6\" class=\"col_heading level0 col6\" >prd_start_dt</th>\n",
       "      <th id=\"T_569d3_level0_col7\" class=\"col_heading level0 col7\" >prd_end_dt</th>\n",
       "    </tr>\n",
       "  </thead>\n",
       "  <tbody>\n",
       "    <tr>\n",
       "      <td id=\"T_569d3_row0_col0\" class=\"data row0 col0\" >210</td>\n",
       "      <td id=\"T_569d3_row0_col1\" class=\"data row0 col1\" >CO_RF</td>\n",
       "      <td id=\"T_569d3_row0_col2\" class=\"data row0 col2\" >FR-R92B-58</td>\n",
       "      <td id=\"T_569d3_row0_col3\" class=\"data row0 col3\" >HL Road Frame - Black- 58</td>\n",
       "      <td id=\"T_569d3_row0_col4\" class=\"data row0 col4\" >0</td>\n",
       "      <td id=\"T_569d3_row0_col5\" class=\"data row0 col5\" >Road</td>\n",
       "      <td id=\"T_569d3_row0_col6\" class=\"data row0 col6\" >2003-07-01</td>\n",
       "      <td id=\"T_569d3_row0_col7\" class=\"data row0 col7\" >None</td>\n",
       "    </tr>\n",
       "    <tr>\n",
       "      <td id=\"T_569d3_row1_col0\" class=\"data row1 col0\" >211</td>\n",
       "      <td id=\"T_569d3_row1_col1\" class=\"data row1 col1\" >CO_RF</td>\n",
       "      <td id=\"T_569d3_row1_col2\" class=\"data row1 col2\" >FR-R92R-58</td>\n",
       "      <td id=\"T_569d3_row1_col3\" class=\"data row1 col3\" >HL Road Frame - Red- 58</td>\n",
       "      <td id=\"T_569d3_row1_col4\" class=\"data row1 col4\" >0</td>\n",
       "      <td id=\"T_569d3_row1_col5\" class=\"data row1 col5\" >Road</td>\n",
       "      <td id=\"T_569d3_row1_col6\" class=\"data row1 col6\" >2003-07-01</td>\n",
       "      <td id=\"T_569d3_row1_col7\" class=\"data row1 col7\" >None</td>\n",
       "    </tr>\n",
       "    <tr>\n",
       "      <td id=\"T_569d3_row2_col0\" class=\"data row2 col0\" >212</td>\n",
       "      <td id=\"T_569d3_row2_col1\" class=\"data row2 col1\" >AC_HE</td>\n",
       "      <td id=\"T_569d3_row2_col2\" class=\"data row2 col2\" >HL-U509-R</td>\n",
       "      <td id=\"T_569d3_row2_col3\" class=\"data row2 col3\" >Sport-100 Helmet- Red</td>\n",
       "      <td id=\"T_569d3_row2_col4\" class=\"data row2 col4\" >12</td>\n",
       "      <td id=\"T_569d3_row2_col5\" class=\"data row2 col5\" >Other Sales</td>\n",
       "      <td id=\"T_569d3_row2_col6\" class=\"data row2 col6\" >2011-07-01</td>\n",
       "      <td id=\"T_569d3_row2_col7\" class=\"data row2 col7\" >2012-06-30</td>\n",
       "    </tr>\n",
       "    <tr>\n",
       "      <td id=\"T_569d3_row3_col0\" class=\"data row3 col0\" >213</td>\n",
       "      <td id=\"T_569d3_row3_col1\" class=\"data row3 col1\" >AC_HE</td>\n",
       "      <td id=\"T_569d3_row3_col2\" class=\"data row3 col2\" >HL-U509-R</td>\n",
       "      <td id=\"T_569d3_row3_col3\" class=\"data row3 col3\" >Sport-100 Helmet- Red</td>\n",
       "      <td id=\"T_569d3_row3_col4\" class=\"data row3 col4\" >14</td>\n",
       "      <td id=\"T_569d3_row3_col5\" class=\"data row3 col5\" >Other Sales</td>\n",
       "      <td id=\"T_569d3_row3_col6\" class=\"data row3 col6\" >2012-07-01</td>\n",
       "      <td id=\"T_569d3_row3_col7\" class=\"data row3 col7\" >2013-06-30</td>\n",
       "    </tr>\n",
       "    <tr>\n",
       "      <td id=\"T_569d3_row4_col0\" class=\"data row4 col0\" >214</td>\n",
       "      <td id=\"T_569d3_row4_col1\" class=\"data row4 col1\" >AC_HE</td>\n",
       "      <td id=\"T_569d3_row4_col2\" class=\"data row4 col2\" >HL-U509-R</td>\n",
       "      <td id=\"T_569d3_row4_col3\" class=\"data row4 col3\" >Sport-100 Helmet- Red</td>\n",
       "      <td id=\"T_569d3_row4_col4\" class=\"data row4 col4\" >13</td>\n",
       "      <td id=\"T_569d3_row4_col5\" class=\"data row4 col5\" >Other Sales</td>\n",
       "      <td id=\"T_569d3_row4_col6\" class=\"data row4 col6\" >2013-07-01</td>\n",
       "      <td id=\"T_569d3_row4_col7\" class=\"data row4 col7\" >None</td>\n",
       "    </tr>\n",
       "    <tr>\n",
       "      <td id=\"T_569d3_row5_col0\" class=\"data row5 col0\" >215</td>\n",
       "      <td id=\"T_569d3_row5_col1\" class=\"data row5 col1\" >AC_HE</td>\n",
       "      <td id=\"T_569d3_row5_col2\" class=\"data row5 col2\" >HL-U509</td>\n",
       "      <td id=\"T_569d3_row5_col3\" class=\"data row5 col3\" >Sport-100 Helmet- Black</td>\n",
       "      <td id=\"T_569d3_row5_col4\" class=\"data row5 col4\" >12</td>\n",
       "      <td id=\"T_569d3_row5_col5\" class=\"data row5 col5\" >Other Sales</td>\n",
       "      <td id=\"T_569d3_row5_col6\" class=\"data row5 col6\" >2011-07-01</td>\n",
       "      <td id=\"T_569d3_row5_col7\" class=\"data row5 col7\" >2012-06-30</td>\n",
       "    </tr>\n",
       "    <tr>\n",
       "      <td id=\"T_569d3_row6_col0\" class=\"data row6 col0\" >216</td>\n",
       "      <td id=\"T_569d3_row6_col1\" class=\"data row6 col1\" >AC_HE</td>\n",
       "      <td id=\"T_569d3_row6_col2\" class=\"data row6 col2\" >HL-U509</td>\n",
       "      <td id=\"T_569d3_row6_col3\" class=\"data row6 col3\" >Sport-100 Helmet- Black</td>\n",
       "      <td id=\"T_569d3_row6_col4\" class=\"data row6 col4\" >14</td>\n",
       "      <td id=\"T_569d3_row6_col5\" class=\"data row6 col5\" >Other Sales</td>\n",
       "      <td id=\"T_569d3_row6_col6\" class=\"data row6 col6\" >2012-07-01</td>\n",
       "      <td id=\"T_569d3_row6_col7\" class=\"data row6 col7\" >2013-06-30</td>\n",
       "    </tr>\n",
       "    <tr>\n",
       "      <td id=\"T_569d3_row7_col0\" class=\"data row7 col0\" >217</td>\n",
       "      <td id=\"T_569d3_row7_col1\" class=\"data row7 col1\" >AC_HE</td>\n",
       "      <td id=\"T_569d3_row7_col2\" class=\"data row7 col2\" >HL-U509</td>\n",
       "      <td id=\"T_569d3_row7_col3\" class=\"data row7 col3\" >Sport-100 Helmet- Black</td>\n",
       "      <td id=\"T_569d3_row7_col4\" class=\"data row7 col4\" >13</td>\n",
       "      <td id=\"T_569d3_row7_col5\" class=\"data row7 col5\" >Other Sales</td>\n",
       "      <td id=\"T_569d3_row7_col6\" class=\"data row7 col6\" >2013-07-01</td>\n",
       "      <td id=\"T_569d3_row7_col7\" class=\"data row7 col7\" >None</td>\n",
       "    </tr>\n",
       "    <tr>\n",
       "      <td id=\"T_569d3_row8_col0\" class=\"data row8 col0\" >218</td>\n",
       "      <td id=\"T_569d3_row8_col1\" class=\"data row8 col1\" >CL_SO</td>\n",
       "      <td id=\"T_569d3_row8_col2\" class=\"data row8 col2\" >SO-B909-M</td>\n",
       "      <td id=\"T_569d3_row8_col3\" class=\"data row8 col3\" >Mountain Bike Socks- M</td>\n",
       "      <td id=\"T_569d3_row8_col4\" class=\"data row8 col4\" >3</td>\n",
       "      <td id=\"T_569d3_row8_col5\" class=\"data row8 col5\" >Mountain</td>\n",
       "      <td id=\"T_569d3_row8_col6\" class=\"data row8 col6\" >2011-07-01</td>\n",
       "      <td id=\"T_569d3_row8_col7\" class=\"data row8 col7\" >None</td>\n",
       "    </tr>\n",
       "    <tr>\n",
       "      <td id=\"T_569d3_row9_col0\" class=\"data row9 col0\" >219</td>\n",
       "      <td id=\"T_569d3_row9_col1\" class=\"data row9 col1\" >CL_SO</td>\n",
       "      <td id=\"T_569d3_row9_col2\" class=\"data row9 col2\" >SO-B909-L</td>\n",
       "      <td id=\"T_569d3_row9_col3\" class=\"data row9 col3\" >Mountain Bike Socks- L</td>\n",
       "      <td id=\"T_569d3_row9_col4\" class=\"data row9 col4\" >3</td>\n",
       "      <td id=\"T_569d3_row9_col5\" class=\"data row9 col5\" >Mountain</td>\n",
       "      <td id=\"T_569d3_row9_col6\" class=\"data row9 col6\" >2011-07-01</td>\n",
       "      <td id=\"T_569d3_row9_col7\" class=\"data row9 col7\" >None</td>\n",
       "    </tr>\n",
       "  </tbody>\n",
       "</table>\n"
      ],
      "text/plain": [
       "<pandas.io.formats.style.Styler at 0x7f4fbc579a90>"
      ]
     },
     "execution_count": 7,
     "metadata": {},
     "output_type": "execute_result"
    }
   ],
   "source": [
    "con.execute(\"SELECT * FROM crm_prd_info_clean LIMIT 10\").df().style.hide(axis=\"index\")"
   ]
  },
  {
   "cell_type": "code",
   "execution_count": 8,
   "id": "1c0243e3-3033-47ed-be82-425fcf6ae6a6",
   "metadata": {},
   "outputs": [],
   "source": [
    "con.close()"
   ]
  },
  {
   "cell_type": "code",
   "execution_count": null,
   "id": "f6ce52a5-e3be-4a76-899c-388ba2551257",
   "metadata": {},
   "outputs": [],
   "source": []
  }
 ],
 "metadata": {
  "kernelspec": {
   "display_name": "PySpark (spark_venv)",
   "language": "python",
   "name": "spark_venv"
  },
  "language_info": {
   "codemirror_mode": {
    "name": "ipython",
    "version": 3
   },
   "file_extension": ".py",
   "mimetype": "text/x-python",
   "name": "python",
   "nbconvert_exporter": "python",
   "pygments_lexer": "ipython3",
   "version": "3.8.10"
  }
 },
 "nbformat": 4,
 "nbformat_minor": 5
}
